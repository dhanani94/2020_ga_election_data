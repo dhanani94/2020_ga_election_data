{
 "cells": [
  {
   "cell_type": "code",
   "execution_count": 43,
   "metadata": {},
   "outputs": [
    {
     "name": "stdout",
     "output_type": "stream",
     "text": [
      "reading file: data/counties.json\n",
      "reading file: data/voting_location.json\n",
      "reading file: data/georgia_county_population_data.json\n",
      "reading file: data/georgia_county_percent_black.json\n",
      "reading file: data/georgia_county_percent_white.json\n"
     ]
    }
   ],
   "source": [
    "import pandas as pd\n",
    "import numpy as np\n",
    "import matplotlib.pyplot as plt\n",
    "\n",
    "from download_files import get_state_data, read_json\n",
    "\n",
    "counties, voting_locations = get_state_data('data/counties.json', 'data/voting_location.json')\n",
    "population_data = read_json('data/georgia_county_population_data.json')\n",
    "black_population_count = read_json('data/georgia_county_percent_black.json')\n",
    "white_population_count = read_json('data/georgia_county_percent_white.json')"
   ]
  },
  {
   "cell_type": "code",
   "execution_count": 44,
   "metadata": {},
   "outputs": [],
   "source": [
    "county_data = []\n",
    "for county_id, county_name in counties.items():\n",
    "    county_data.append({\n",
    "        \"county\" : county_name,\n",
    "        \"population\" : population_data[county_name],\n",
    "        \"percent_black\" : black_population_count[county_name],\n",
    "        \"percent_white\" : white_population_count[county_name],\n",
    "        \"polling_count\" : len(voting_locations[county_name])\n",
    "                       })\n",
    "df_county_data = pd.DataFrame(county_data)"
   ]
  },
  {
   "cell_type": "code",
   "execution_count": 45,
   "metadata": {},
   "outputs": [],
   "source": [
    "df_county_data['people_per_polling_loc'] = df_county_data.population / df_county_data.polling_count"
   ]
  },
  {
   "cell_type": "code",
   "execution_count": 47,
   "metadata": {},
   "outputs": [
    {
     "data": {
      "text/html": [
       "<div>\n",
       "<style scoped>\n",
       "    .dataframe tbody tr th:only-of-type {\n",
       "        vertical-align: middle;\n",
       "    }\n",
       "\n",
       "    .dataframe tbody tr th {\n",
       "        vertical-align: top;\n",
       "    }\n",
       "\n",
       "    .dataframe thead th {\n",
       "        text-align: right;\n",
       "    }\n",
       "</style>\n",
       "<table border=\"1\" class=\"dataframe\">\n",
       "  <thead>\n",
       "    <tr style=\"text-align: right;\">\n",
       "      <th></th>\n",
       "      <th>county</th>\n",
       "      <th>population</th>\n",
       "      <th>percent_black</th>\n",
       "      <th>percent_white</th>\n",
       "      <th>polling_count</th>\n",
       "      <th>people_per_polling_loc</th>\n",
       "    </tr>\n",
       "  </thead>\n",
       "  <tbody>\n",
       "    <tr>\n",
       "      <th>30</th>\n",
       "      <td>CLAYTON</td>\n",
       "      <td>289615</td>\n",
       "      <td>72.1</td>\n",
       "      <td>9.6</td>\n",
       "      <td>6</td>\n",
       "      <td>48269.166667</td>\n",
       "    </tr>\n",
       "    <tr>\n",
       "      <th>127</th>\n",
       "      <td>STEWART</td>\n",
       "      <td>6199</td>\n",
       "      <td>48.7</td>\n",
       "      <td>23.7</td>\n",
       "      <td>1</td>\n",
       "      <td>6199.000000</td>\n",
       "    </tr>\n",
       "    <tr>\n",
       "      <th>46</th>\n",
       "      <td>DOUGHERTY</td>\n",
       "      <td>91243</td>\n",
       "      <td>70.9</td>\n",
       "      <td>24.4</td>\n",
       "      <td>1</td>\n",
       "      <td>91243.000000</td>\n",
       "    </tr>\n",
       "    <tr>\n",
       "      <th>69</th>\n",
       "      <td>HANCOCK</td>\n",
       "      <td>8348</td>\n",
       "      <td>71.2</td>\n",
       "      <td>24.5</td>\n",
       "      <td>1</td>\n",
       "      <td>8348.000000</td>\n",
       "    </tr>\n",
       "    <tr>\n",
       "      <th>43</th>\n",
       "      <td>DEKALB</td>\n",
       "      <td>756558</td>\n",
       "      <td>54.9</td>\n",
       "      <td>29.2</td>\n",
       "      <td>13</td>\n",
       "      <td>58196.769231</td>\n",
       "    </tr>\n",
       "    <tr>\n",
       "      <th>...</th>\n",
       "      <td>...</td>\n",
       "      <td>...</td>\n",
       "      <td>...</td>\n",
       "      <td>...</td>\n",
       "      <td>...</td>\n",
       "      <td>...</td>\n",
       "    </tr>\n",
       "    <tr>\n",
       "      <th>111</th>\n",
       "      <td>PICKENS</td>\n",
       "      <td>31980</td>\n",
       "      <td>1.2</td>\n",
       "      <td>93.6</td>\n",
       "      <td>1</td>\n",
       "      <td>31980.000000</td>\n",
       "    </tr>\n",
       "    <tr>\n",
       "      <th>143</th>\n",
       "      <td>UNION</td>\n",
       "      <td>24001</td>\n",
       "      <td>0.9</td>\n",
       "      <td>93.6</td>\n",
       "      <td>1</td>\n",
       "      <td>24001.000000</td>\n",
       "    </tr>\n",
       "    <tr>\n",
       "      <th>40</th>\n",
       "      <td>DADE</td>\n",
       "      <td>16226</td>\n",
       "      <td>1.2</td>\n",
       "      <td>93.7</td>\n",
       "      <td>1</td>\n",
       "      <td>16226.000000</td>\n",
       "    </tr>\n",
       "    <tr>\n",
       "      <th>138</th>\n",
       "      <td>TOWNS</td>\n",
       "      <td>11852</td>\n",
       "      <td>1.3</td>\n",
       "      <td>94.0</td>\n",
       "      <td>1</td>\n",
       "      <td>11852.000000</td>\n",
       "    </tr>\n",
       "    <tr>\n",
       "      <th>54</th>\n",
       "      <td>FANNIN</td>\n",
       "      <td>25964</td>\n",
       "      <td>0.8</td>\n",
       "      <td>94.6</td>\n",
       "      <td>1</td>\n",
       "      <td>25964.000000</td>\n",
       "    </tr>\n",
       "  </tbody>\n",
       "</table>\n",
       "<p>159 rows × 6 columns</p>\n",
       "</div>"
      ],
      "text/plain": [
       "        county  population  percent_black  percent_white  polling_count  \\\n",
       "30     CLAYTON      289615           72.1            9.6              6   \n",
       "127    STEWART        6199           48.7           23.7              1   \n",
       "46   DOUGHERTY       91243           70.9           24.4              1   \n",
       "69     HANCOCK        8348           71.2           24.5              1   \n",
       "43      DEKALB      756558           54.9           29.2             13   \n",
       "..         ...         ...            ...            ...            ...   \n",
       "111    PICKENS       31980            1.2           93.6              1   \n",
       "143      UNION       24001            0.9           93.6              1   \n",
       "40        DADE       16226            1.2           93.7              1   \n",
       "138      TOWNS       11852            1.3           94.0              1   \n",
       "54      FANNIN       25964            0.8           94.6              1   \n",
       "\n",
       "     people_per_polling_loc  \n",
       "30             48269.166667  \n",
       "127             6199.000000  \n",
       "46             91243.000000  \n",
       "69              8348.000000  \n",
       "43             58196.769231  \n",
       "..                      ...  \n",
       "111            31980.000000  \n",
       "143            24001.000000  \n",
       "40             16226.000000  \n",
       "138            11852.000000  \n",
       "54             25964.000000  \n",
       "\n",
       "[159 rows x 6 columns]"
      ]
     },
     "execution_count": 47,
     "metadata": {},
     "output_type": "execute_result"
    }
   ],
   "source": [
    "df_county_data.sort_values(\"percent_white\")"
   ]
  },
  {
   "cell_type": "code",
   "execution_count": 50,
   "metadata": {},
   "outputs": [
    {
     "data": {
      "image/png": "[encoded data removed]",
      "text/plain": [
       "<Figure size 432x288 with 1 Axes>"
      ]
     },
     "metadata": {
      "needs_background": "light"
     },
     "output_type": "display_data"
    },
    {
     "data": {
      "text/plain": [
       "array([[ 1.        , -0.04243379],\n",
       "       [-0.04243379,  1.        ]])"
      ]
     },
     "execution_count": 50,
     "metadata": {},
     "output_type": "execute_result"
    }
   ],
   "source": [
    "x = df_county_data.percent_black\n",
    "y = df_county_data.people_per_polling_loc\n",
    "\n",
    "fig = plt.figure()\n",
    "ax1 = fig.add_subplot()\n",
    "ax1.set_ylabel('people per polling location')\n",
    "ax1.set_title('Percent of Black Population to Polling Location')\n",
    "ax1.set_xlabel('Black Population(%)')\n",
    "plt.scatter(x, y)\n",
    "plt.show()\n",
    "np.corrcoef(x, y)"
   ]
  },
  {
   "cell_type": "code",
   "execution_count": 51,
   "metadata": {},
   "outputs": [
    {
     "data": {
      "image/png": "[encoded data removed]",
      "text/plain": [
       "<Figure size 432x288 with 1 Axes>"
      ]
     },
     "metadata": {
      "needs_background": "light"
     },
     "output_type": "display_data"
    },
    {
     "data": {
      "text/plain": [
       "array([[ 1.        , -0.08307811],\n",
       "       [-0.08307811,  1.        ]])"
      ]
     },
     "execution_count": 51,
     "metadata": {},
     "output_type": "execute_result"
    }
   ],
   "source": [
    "x = df_county_data.percent_white\n",
    "y = df_county_data.people_per_polling_loc\n",
    "\n",
    "fig = plt.figure()\n",
    "ax1 = fig.add_subplot()\n",
    "ax1.set_ylabel('people per polling location')\n",
    "ax1.set_title('Percent of White Population to Polling Location')\n",
    "ax1.set_xlabel('White Population(%)')\n",
    "plt.scatter(x, y)\n",
    "plt.show()\n",
    "np.corrcoef(x, y)"
   ]
  },
  {
   "cell_type": "code",
   "execution_count": null,
   "metadata": {},
   "outputs": [],
   "source": []
  }
 ],
 "metadata": {
  "kernelspec": {
   "display_name": "Python 3",
   "language": "python",
   "name": "python3"
  },
  "language_info": {
   "codemirror_mode": {
    "name": "ipython",
    "version": 3
   },
   "file_extension": ".py",
   "mimetype": "text/x-python",
   "name": "python",
   "nbconvert_exporter": "python",
   "pygments_lexer": "ipython3",
   "version": "3.8.5"
  }
 },
 "nbformat": 4,
 "nbformat_minor": 4
}
